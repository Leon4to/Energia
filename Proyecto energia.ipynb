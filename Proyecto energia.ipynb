{
 "cells": [
  {
   "cell_type": "code",
   "execution_count": 2,
   "id": "dd179b22",
   "metadata": {},
   "outputs": [],
   "source": [
    "import pandas as pd\n",
    "df_new = pd.read_csv('df_new.csv')"
   ]
  },
  {
   "cell_type": "code",
   "execution_count": 4,
   "id": "30f81022",
   "metadata": {},
   "outputs": [
    {
     "data": {
      "text/plain": [
       "entity                                                              0\n",
       "continente                                                          0\n",
       "year                                                                0\n",
       "access_to_electricity_(%_of_population)                             0\n",
       "access_to_clean_fuels_for_cooking                                   0\n",
       "renewable_electricity_generating_capacity_per_capita                0\n",
       "financial_flows_to_developing_countries_(usd)                       0\n",
       "renewable_energy_share_in_the_total_final_energy_consumption_(%)    0\n",
       "electricity_from_fossil_fuels_(twh)                                 0\n",
       "electricity_from_nuclear_(twh)                                      0\n",
       "electricity_from_renewables_(twh)                                   0\n",
       "low_carbon_electricity_(%_electricity)                              0\n",
       "primary_energy_consumption_per_capita_(kwh/person)                  0\n",
       "energy_intensity_level_of_primary_energy_(mj/$2017_ppp_gdp)         0\n",
       "value_co2_emissions_kt_by_country                                   0\n",
       "renewables_(%_equivalent_primary_energy)                            0\n",
       "gdp_growth                                                          0\n",
       "gdp_per_capita                                                      0\n",
       "density_(p/km2)                                                     0\n",
       "land_area(km2)                                                      0\n",
       "latitude                                                            0\n",
       "longitude                                                           0\n",
       "dtype: int64"
      ]
     },
     "execution_count": 4,
     "metadata": {},
     "output_type": "execute_result"
    }
   ],
   "source": [
    "df_new.isnull().sum()"
   ]
  }
 ],
 "metadata": {
  "kernelspec": {
   "display_name": "Python 3 (ipykernel)",
   "language": "python",
   "name": "python3"
  },
  "language_info": {
   "codemirror_mode": {
    "name": "ipython",
    "version": 3
   },
   "file_extension": ".py",
   "mimetype": "text/x-python",
   "name": "python",
   "nbconvert_exporter": "python",
   "pygments_lexer": "ipython3",
   "version": "3.11.5"
  }
 },
 "nbformat": 4,
 "nbformat_minor": 5
}
